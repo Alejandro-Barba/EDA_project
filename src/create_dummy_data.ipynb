{
 "cells": [
  {
   "cell_type": "markdown",
   "metadata": {},
   "source": [
    "# Creador de datos Dummy\n",
    "\n",
    "Ingresa tu rango de fechas y la función generate_dummy_df se encargará de crear tus datos dummy\n",
    "En caso de que tengas datos reales asegúrate que tengan el siguiente formato:\n",
    "\n",
    "| ID_pedido | Fecha_pedido | Fecha_picking | Fecha_factura | Fecha_entrega |\n",
    "|-----------|--------------|--------------|--------------|--------------|\n",
    "| 1         | DD/MM/YYYY   | DD/MM/YYYY   | DD/MM/YYYY   | DD/MM/YYYY   |\n"
   ]
  },
  {
   "cell_type": "code",
   "execution_count": 4,
   "metadata": {},
   "outputs": [],
   "source": [
    "import pandas as pd\n",
    "import random\n",
    "from datetime import datetime, timedelta"
   ]
  },
  {
   "cell_type": "code",
   "execution_count": 5,
   "metadata": {},
   "outputs": [],
   "source": [
    "# Función para generar fechas aleatorias dentro de un rango\n",
    "def random_date(start_date, end_date):\n",
    "    return start_date + timedelta(days=random.randint(0, (end_date - start_date).days))\n",
    "\n",
    "# Función para generar valores dummy y guardarlos en un DataFrame\n",
    "def generate_dummy_df(values=1000):\n",
    "    start_date = datetime(2020, 1, 1)  # Fecha de inicio\n",
    "    end_date = datetime(2023, 12, 31)  # Fecha de fin\n",
    "    id_pedido = 1\n",
    "    dummy_data = []\n",
    "\n",
    "    for _ in range(values):\n",
    "        fecha_pedido = random_date(start_date, end_date)\n",
    "        fecha_picking = random_date(fecha_pedido, fecha_pedido + timedelta(days=4))\n",
    "        fecha_factura = random_date(fecha_picking, fecha_picking + timedelta(days=2))\n",
    "        fecha_entrega = random_date(fecha_factura, fecha_factura + timedelta(days=8))\n",
    "\n",
    "        dummy_data.append([id_pedido, fecha_pedido, fecha_picking, fecha_factura, fecha_entrega])\n",
    "        id_pedido += 1\n",
    "\n",
    "    # Crear un DataFrame a partir de los datos dummy\n",
    "    df = pd.DataFrame(dummy_data, columns=[\"ID_pedido\", \"Fecha_pedido\", \"Fecha_picking\", \"Fecha_factura\", \"Fecha_entrega\"])\n",
    "    \n",
    "    return df"
   ]
  },
  {
   "cell_type": "markdown",
   "metadata": {},
   "source": [
    "## Corre la siguiente celda para generar tu Dataframe, cambia el valor de \"Values\" para definir cuantos registros quieres generar"
   ]
  },
  {
   "cell_type": "code",
   "execution_count": 9,
   "metadata": {},
   "outputs": [
    {
     "name": "stdout",
     "output_type": "stream",
     "text": [
      "     ID_pedido Fecha_pedido Fecha_picking Fecha_factura Fecha_entrega\n",
      "0            1   2023-07-14    2023-07-18    2023-07-20    2023-07-21\n",
      "1            2   2021-03-03    2021-03-04    2021-03-05    2021-03-08\n",
      "2            3   2020-03-31    2020-04-03    2020-04-03    2020-04-10\n",
      "3            4   2020-11-06    2020-11-09    2020-11-09    2020-11-17\n",
      "4            5   2022-07-27    2022-07-29    2022-07-30    2022-08-02\n",
      "..         ...          ...           ...           ...           ...\n",
      "995        996   2023-05-23    2023-05-27    2023-05-28    2023-06-04\n",
      "996        997   2023-11-11    2023-11-13    2023-11-14    2023-11-18\n",
      "997        998   2022-08-01    2022-08-04    2022-08-06    2022-08-13\n",
      "998        999   2023-04-12    2023-04-16    2023-04-16    2023-04-23\n",
      "999       1000   2020-10-01    2020-10-05    2020-10-06    2020-10-06\n",
      "\n",
      "[1000 rows x 5 columns]\n"
     ]
    }
   ],
   "source": [
    "values = 1000\n",
    "# Llamamos a la función y obtenemos el DataFrame\n",
    "dummy_df = generate_dummy_df(values)\n",
    "\n",
    "# Puedes imprimir el DataFrame\n",
    "print(dummy_df)"
   ]
  },
  {
   "cell_type": "code",
   "execution_count": 10,
   "metadata": {},
   "outputs": [],
   "source": [
    "# Función para agregar outliers a las fechas\n",
    "def add_outliers(df, num_outliers):\n",
    "    df_with_outliers = df.copy()\n",
    "    num_rows, num_cols = df.shape\n",
    "    for _ in range(num_outliers):\n",
    "        row_index = random.randint(0, num_rows - 1)\n",
    "        col_index = random.randint(1, num_cols - 1)  # Excluimos la columna de ID_pedido\n",
    "        date = df.iloc[row_index, col_index]\n",
    "        days = random.randint(5, 20)  # Puedes ajustar el rango de días para los outliers\n",
    "        new_date = date + timedelta(days)\n",
    "        df_with_outliers.iat[row_index, col_index] = new_date\n",
    "    return df_with_outliers"
   ]
  },
  {
   "cell_type": "markdown",
   "metadata": {},
   "source": [
    "## Si deseas agregar algunos outliers a tu DF corre la siguiente celda seleccionando el número de outliers que quieras agregar"
   ]
  },
  {
   "cell_type": "code",
   "execution_count": 12,
   "metadata": {},
   "outputs": [
    {
     "name": "stdout",
     "output_type": "stream",
     "text": [
      "     ID_pedido Fecha_pedido Fecha_picking Fecha_factura Fecha_entrega\n",
      "0            1   2023-07-14    2023-07-18    2023-07-20    2023-07-21\n",
      "1            2   2021-03-03    2021-03-04    2021-03-05    2021-03-08\n",
      "2            3   2020-03-31    2020-04-03    2020-04-03    2020-04-10\n",
      "3            4   2020-11-06    2020-11-09    2020-11-09    2020-11-17\n",
      "4            5   2022-07-27    2022-07-29    2022-07-30    2022-08-02\n",
      "..         ...          ...           ...           ...           ...\n",
      "995        996   2023-05-23    2023-05-27    2023-05-28    2023-06-04\n",
      "996        997   2023-11-11    2023-11-13    2023-11-14    2023-11-18\n",
      "997        998   2022-08-01    2022-08-04    2022-08-06    2022-08-13\n",
      "998        999   2023-04-12    2023-04-16    2023-04-16    2023-04-23\n",
      "999       1000   2020-10-01    2020-10-05    2020-10-06    2020-10-06\n",
      "\n",
      "[1000 rows x 5 columns]\n"
     ]
    }
   ],
   "source": [
    "# Llamamos a la función para agregar outliers\n",
    "dummy_df = add_outliers(dummy_df, num_outliers=30)  # Puedes ajustar el número de outliers\n",
    "\n",
    "# Imprimimos el DataFrame con outliers\n",
    "print(dummy_df)"
   ]
  },
  {
   "cell_type": "markdown",
   "metadata": {},
   "source": [
    "## Corre la siguiente celda si deseas tener \"missing_values\" en tu dataset, cambia el valor de la variable \"values\" para seleccionar la cantidad de vacíos que quieres tener"
   ]
  },
  {
   "cell_type": "code",
   "execution_count": 13,
   "metadata": {},
   "outputs": [],
   "source": [
    "# Función para introducir celdas vacías (missing values) de forma aleatoria\n",
    "def introduce_missing_values(df, num_missing_values):\n",
    "    df_with_missing_values = df.copy()\n",
    "    num_rows, num_cols = df.shape\n",
    "\n",
    "    for _ in range(num_missing_values):\n",
    "        row_index = random.randint(0, num_rows - 1)\n",
    "        col_index = random.randint(1, num_cols - 1)  # Excluimos la columna de ID_pedido\n",
    "        df_with_missing_values.iat[row_index, col_index] = None\n",
    "\n",
    "    return df_with_missing_values"
   ]
  },
  {
   "cell_type": "code",
   "execution_count": 15,
   "metadata": {},
   "outputs": [
    {
     "name": "stdout",
     "output_type": "stream",
     "text": [
      "     ID_pedido Fecha_pedido Fecha_picking Fecha_factura Fecha_entrega\n",
      "0            1   2023-07-14    2023-07-18    2023-07-20    2023-07-21\n",
      "1            2   2021-03-03    2021-03-04    2021-03-05    2021-03-08\n",
      "2            3   2020-03-31    2020-04-03    2020-04-03    2020-04-10\n",
      "3            4   2020-11-06    2020-11-09    2020-11-09    2020-11-17\n",
      "4            5   2022-07-27    2022-07-29    2022-07-30    2022-08-02\n",
      "..         ...          ...           ...           ...           ...\n",
      "995        996   2023-05-23    2023-05-27    2023-05-28    2023-06-04\n",
      "996        997   2023-11-11    2023-11-13    2023-11-14    2023-11-18\n",
      "997        998   2022-08-01    2022-08-04    2022-08-06    2022-08-13\n",
      "998        999   2023-04-12    2023-04-16    2023-04-16    2023-04-23\n",
      "999       1000   2020-10-01    2020-10-05    2020-10-06    2020-10-06\n",
      "\n",
      "[1000 rows x 5 columns]\n"
     ]
    }
   ],
   "source": [
    "values = 15\n",
    "\n",
    "# Llamamos a la función para introducir missing values\n",
    "dummy_df = introduce_missing_values(dummy_df.copy(), values)  # Puedes ajustar el número de missing values\n",
    "\n",
    "# Imprimimos el DataFrame con missing values\n",
    "print(dummy_df)"
   ]
  },
  {
   "cell_type": "markdown",
   "metadata": {},
   "source": [
    "## Corre la siguiente función para guardar el df en un archivo CSV"
   ]
  },
  {
   "cell_type": "code",
   "execution_count": 16,
   "metadata": {},
   "outputs": [],
   "source": [
    "# Para guardar el DataFrame en un archivo CSV, por ejemplo:\n",
    "dummy_df.to_csv(\"../data/data.csv\", index=False)"
   ]
  }
 ],
 "metadata": {
  "kernelspec": {
   "display_name": "Python 3",
   "language": "python",
   "name": "python3"
  },
  "language_info": {
   "codemirror_mode": {
    "name": "ipython",
    "version": 3
   },
   "file_extension": ".py",
   "mimetype": "text/x-python",
   "name": "python",
   "nbconvert_exporter": "python",
   "pygments_lexer": "ipython3",
   "version": "3.11.2"
  }
 },
 "nbformat": 4,
 "nbformat_minor": 2
}
